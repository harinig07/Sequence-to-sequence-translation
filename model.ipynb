{
  "nbformat": 4,
  "nbformat_minor": 0,
  "metadata": {
    "colab": {
      "provenance": [],
      "authorship_tag": "ABX9TyNkBi+6QAvICFpajTrwpM6b"
    },
    "kernelspec": {
      "name": "python3",
      "display_name": "Python 3"
    },
    "language_info": {
      "name": "python"
    },
    "gpuClass": "standard"
  },
  "cells": [
    {
      "cell_type": "code",
      "source": [
        "#for bucket iterator\n",
        "!pip install torch==1.8.0 torchtext==0.9.0\n"
      ],
      "metadata": {
        "colab": {
          "base_uri": "https://localhost:8080/"
        },
        "id": "PRWjWdCAbGGU",
        "outputId": "ff8c5abb-5c43-497c-e63e-63f3bcc6e97c"
      },
      "execution_count": null,
      "outputs": [
        {
          "output_type": "stream",
          "name": "stdout",
          "text": [
            "Looking in indexes: https://pypi.org/simple, https://us-python.pkg.dev/colab-wheels/public/simple/\n",
            "Collecting torch==1.8.0\n",
            "  Downloading torch-1.8.0-cp39-cp39-manylinux1_x86_64.whl (735.5 MB)\n",
            "\u001b[2K     \u001b[90m━━━━━━━━━━━━━━━━━━━━━━━━━━━━━━━━━━━━━━━\u001b[0m \u001b[32m735.5/735.5 MB\u001b[0m \u001b[31m1.5 MB/s\u001b[0m eta \u001b[36m0:00:00\u001b[0m\n",
            "\u001b[?25hCollecting torchtext==0.9.0\n",
            "  Downloading torchtext-0.9.0-cp39-cp39-manylinux1_x86_64.whl (7.0 MB)\n",
            "\u001b[2K     \u001b[90m━━━━━━━━━━━━━━━━━━━━━━━━━━━━━━━━━━━━━━━━\u001b[0m \u001b[32m7.0/7.0 MB\u001b[0m \u001b[31m26.7 MB/s\u001b[0m eta \u001b[36m0:00:00\u001b[0m\n",
            "\u001b[?25hRequirement already satisfied: typing-extensions in /usr/local/lib/python3.9/dist-packages (from torch==1.8.0) (4.5.0)\n",
            "Requirement already satisfied: numpy in /usr/local/lib/python3.9/dist-packages (from torch==1.8.0) (1.22.4)\n",
            "Requirement already satisfied: requests in /usr/local/lib/python3.9/dist-packages (from torchtext==0.9.0) (2.27.1)\n",
            "Requirement already satisfied: tqdm in /usr/local/lib/python3.9/dist-packages (from torchtext==0.9.0) (4.65.0)\n",
            "Requirement already satisfied: charset-normalizer~=2.0.0 in /usr/local/lib/python3.9/dist-packages (from requests->torchtext==0.9.0) (2.0.12)\n",
            "Requirement already satisfied: certifi>=2017.4.17 in /usr/local/lib/python3.9/dist-packages (from requests->torchtext==0.9.0) (2022.12.7)\n",
            "Requirement already satisfied: urllib3<1.27,>=1.21.1 in /usr/local/lib/python3.9/dist-packages (from requests->torchtext==0.9.0) (1.26.15)\n",
            "Requirement already satisfied: idna<4,>=2.5 in /usr/local/lib/python3.9/dist-packages (from requests->torchtext==0.9.0) (3.4)\n",
            "Installing collected packages: torch, torchtext\n",
            "  Attempting uninstall: torch\n",
            "    Found existing installation: torch 2.0.0+cu118\n",
            "    Uninstalling torch-2.0.0+cu118:\n",
            "      Successfully uninstalled torch-2.0.0+cu118\n",
            "  Attempting uninstall: torchtext\n",
            "    Found existing installation: torchtext 0.15.1\n",
            "    Uninstalling torchtext-0.15.1:\n",
            "      Successfully uninstalled torchtext-0.15.1\n",
            "\u001b[31mERROR: pip's dependency resolver does not currently take into account all the packages that are installed. This behaviour is the source of the following dependency conflicts.\n",
            "torchvision 0.15.1+cu118 requires torch==2.0.0, but you have torch 1.8.0 which is incompatible.\n",
            "torchdata 0.6.0 requires torch==2.0.0, but you have torch 1.8.0 which is incompatible.\n",
            "torchaudio 2.0.1+cu118 requires torch==2.0.0, but you have torch 1.8.0 which is incompatible.\u001b[0m\u001b[31m\n",
            "\u001b[0mSuccessfully installed torch-1.8.0 torchtext-0.9.0\n"
          ]
        }
      ]
    },
    {
      "cell_type": "code",
      "execution_count": null,
      "metadata": {
        "id": "Pf5BULVAB-cO"
      },
      "outputs": [],
      "source": [
        "import numpy as np\n",
        "import pandas as pd\n",
        "import torch\n",
        "import torch.nn.functional as F\n",
        "import torch.optim as optim\n",
        "import torch.nn as nn\n",
        "import random\n",
        "import seaborn as sns\n",
        "import matplotlib.pyplot as plt\n"
      ]
    },
    {
      "cell_type": "code",
      "source": [
        "from torchtext.legacy.data import Field , BucketIterator ,TabularDataset\n",
        "from torchtext.legacy import data"
      ],
      "metadata": {
        "id": "iWDfza8SbJPD"
      },
      "execution_count": null,
      "outputs": []
    },
    {
      "cell_type": "code",
      "source": [
        "from google.colab import drive\n",
        "drive.mount('/content/drive')"
      ],
      "metadata": {
        "colab": {
          "base_uri": "https://localhost:8080/"
        },
        "id": "4foNe-pOCI4b",
        "outputId": "a8e5c316-e7bc-4a4b-989a-e14b32319644"
      },
      "execution_count": null,
      "outputs": [
        {
          "output_type": "stream",
          "name": "stdout",
          "text": [
            "Mounted at /content/drive\n"
          ]
        }
      ]
    },
    {
      "cell_type": "code",
      "source": [
        "!unzip /content/drive/MyDrive/Dakshina.zip"
      ],
      "metadata": {
        "colab": {
          "base_uri": "https://localhost:8080/"
        },
        "id": "RrDqVvXBO53I",
        "outputId": "c3445527-8541-4799-ba07-d04c19e38ccb"
      },
      "execution_count": null,
      "outputs": [
        {
          "output_type": "stream",
          "name": "stdout",
          "text": [
            "Archive:  /content/drive/MyDrive/Dakshina.zip\n",
            "   creating: Dakshina Dataset/\n",
            "   creating: Dakshina Dataset/hi/\n",
            "   creating: Dakshina Dataset/hi/lexicons/\n",
            "  inflating: Dakshina Dataset/hi/lexicons/hi.translit.sampled.dev.tsv  \n",
            "  inflating: Dakshina Dataset/hi/lexicons/hi.translit.sampled.test.tsv  \n",
            "  inflating: Dakshina Dataset/hi/lexicons/hi.translit.sampled.train.tsv  \n"
          ]
        }
      ]
    },
    {
      "cell_type": "code",
      "source": [
        "train_data = pd.read_csv('/content/Dakshina Dataset/hi/lexicons/hi.translit.sampled.train.tsv',sep = '\\t', header = None)\n",
        "test_data = pd.read_csv('/content/Dakshina Dataset/hi/lexicons/hi.translit.sampled.test.tsv',sep = '\\t', header = None)\n",
        "val_data = pd.read_csv('/content/Dakshina Dataset/hi/lexicons/hi.translit.sampled.dev.tsv',sep = '\\t', header = None)"
      ],
      "metadata": {
        "id": "Zx3iNLIpSD16"
      },
      "execution_count": null,
      "outputs": []
    },
    {
      "cell_type": "code",
      "source": [
        "print(train_data.shape)\n",
        "print(test_data.shape)\n",
        "print(val_data.shape)"
      ],
      "metadata": {
        "colab": {
          "base_uri": "https://localhost:8080/"
        },
        "id": "u8EujKQRTOWP",
        "outputId": "a403a440-9fbc-40bc-b5c3-ee03ea23297b"
      },
      "execution_count": null,
      "outputs": [
        {
          "output_type": "stream",
          "name": "stdout",
          "text": [
            "(44204, 2)\n",
            "(4502, 2)\n",
            "(4358, 2)\n"
          ]
        }
      ]
    },
    {
      "cell_type": "code",
      "source": [
        "train_data.head()"
      ],
      "metadata": {
        "colab": {
          "base_uri": "https://localhost:8080/",
          "height": 206
        },
        "id": "XqlTpq21VO0t",
        "outputId": "e11e67a5-646a-424a-d98c-62937cf3f078"
      },
      "execution_count": null,
      "outputs": [
        {
          "output_type": "execute_result",
          "data": {
            "text/plain": [
              "         0         1  2\n",
              "0       अं        an  3\n",
              "1  अंकगणित  ankganit  3\n",
              "2     अंकल     uncle  4\n",
              "3    अंकुर     ankur  4\n",
              "4   अंकुरण   ankuran  3"
            ],
            "text/html": [
              "\n",
              "  <div id=\"df-0b3a5ee4-9f7d-4bd3-ad91-98a71dd13eb4\">\n",
              "    <div class=\"colab-df-container\">\n",
              "      <div>\n",
              "<style scoped>\n",
              "    .dataframe tbody tr th:only-of-type {\n",
              "        vertical-align: middle;\n",
              "    }\n",
              "\n",
              "    .dataframe tbody tr th {\n",
              "        vertical-align: top;\n",
              "    }\n",
              "\n",
              "    .dataframe thead th {\n",
              "        text-align: right;\n",
              "    }\n",
              "</style>\n",
              "<table border=\"1\" class=\"dataframe\">\n",
              "  <thead>\n",
              "    <tr style=\"text-align: right;\">\n",
              "      <th></th>\n",
              "      <th>0</th>\n",
              "      <th>1</th>\n",
              "      <th>2</th>\n",
              "    </tr>\n",
              "  </thead>\n",
              "  <tbody>\n",
              "    <tr>\n",
              "      <th>0</th>\n",
              "      <td>अं</td>\n",
              "      <td>an</td>\n",
              "      <td>3</td>\n",
              "    </tr>\n",
              "    <tr>\n",
              "      <th>1</th>\n",
              "      <td>अंकगणित</td>\n",
              "      <td>ankganit</td>\n",
              "      <td>3</td>\n",
              "    </tr>\n",
              "    <tr>\n",
              "      <th>2</th>\n",
              "      <td>अंकल</td>\n",
              "      <td>uncle</td>\n",
              "      <td>4</td>\n",
              "    </tr>\n",
              "    <tr>\n",
              "      <th>3</th>\n",
              "      <td>अंकुर</td>\n",
              "      <td>ankur</td>\n",
              "      <td>4</td>\n",
              "    </tr>\n",
              "    <tr>\n",
              "      <th>4</th>\n",
              "      <td>अंकुरण</td>\n",
              "      <td>ankuran</td>\n",
              "      <td>3</td>\n",
              "    </tr>\n",
              "  </tbody>\n",
              "</table>\n",
              "</div>\n",
              "      <button class=\"colab-df-convert\" onclick=\"convertToInteractive('df-0b3a5ee4-9f7d-4bd3-ad91-98a71dd13eb4')\"\n",
              "              title=\"Convert this dataframe to an interactive table.\"\n",
              "              style=\"display:none;\">\n",
              "        \n",
              "  <svg xmlns=\"http://www.w3.org/2000/svg\" height=\"24px\"viewBox=\"0 0 24 24\"\n",
              "       width=\"24px\">\n",
              "    <path d=\"M0 0h24v24H0V0z\" fill=\"none\"/>\n",
              "    <path d=\"M18.56 5.44l.94 2.06.94-2.06 2.06-.94-2.06-.94-.94-2.06-.94 2.06-2.06.94zm-11 1L8.5 8.5l.94-2.06 2.06-.94-2.06-.94L8.5 2.5l-.94 2.06-2.06.94zm10 10l.94 2.06.94-2.06 2.06-.94-2.06-.94-.94-2.06-.94 2.06-2.06.94z\"/><path d=\"M17.41 7.96l-1.37-1.37c-.4-.4-.92-.59-1.43-.59-.52 0-1.04.2-1.43.59L10.3 9.45l-7.72 7.72c-.78.78-.78 2.05 0 2.83L4 21.41c.39.39.9.59 1.41.59.51 0 1.02-.2 1.41-.59l7.78-7.78 2.81-2.81c.8-.78.8-2.07 0-2.86zM5.41 20L4 18.59l7.72-7.72 1.47 1.35L5.41 20z\"/>\n",
              "  </svg>\n",
              "      </button>\n",
              "      \n",
              "  <style>\n",
              "    .colab-df-container {\n",
              "      display:flex;\n",
              "      flex-wrap:wrap;\n",
              "      gap: 12px;\n",
              "    }\n",
              "\n",
              "    .colab-df-convert {\n",
              "      background-color: #E8F0FE;\n",
              "      border: none;\n",
              "      border-radius: 50%;\n",
              "      cursor: pointer;\n",
              "      display: none;\n",
              "      fill: #1967D2;\n",
              "      height: 32px;\n",
              "      padding: 0 0 0 0;\n",
              "      width: 32px;\n",
              "    }\n",
              "\n",
              "    .colab-df-convert:hover {\n",
              "      background-color: #E2EBFA;\n",
              "      box-shadow: 0px 1px 2px rgba(60, 64, 67, 0.3), 0px 1px 3px 1px rgba(60, 64, 67, 0.15);\n",
              "      fill: #174EA6;\n",
              "    }\n",
              "\n",
              "    [theme=dark] .colab-df-convert {\n",
              "      background-color: #3B4455;\n",
              "      fill: #D2E3FC;\n",
              "    }\n",
              "\n",
              "    [theme=dark] .colab-df-convert:hover {\n",
              "      background-color: #434B5C;\n",
              "      box-shadow: 0px 1px 3px 1px rgba(0, 0, 0, 0.15);\n",
              "      filter: drop-shadow(0px 1px 2px rgba(0, 0, 0, 0.3));\n",
              "      fill: #FFFFFF;\n",
              "    }\n",
              "  </style>\n",
              "\n",
              "      <script>\n",
              "        const buttonEl =\n",
              "          document.querySelector('#df-0b3a5ee4-9f7d-4bd3-ad91-98a71dd13eb4 button.colab-df-convert');\n",
              "        buttonEl.style.display =\n",
              "          google.colab.kernel.accessAllowed ? 'block' : 'none';\n",
              "\n",
              "        async function convertToInteractive(key) {\n",
              "          const element = document.querySelector('#df-0b3a5ee4-9f7d-4bd3-ad91-98a71dd13eb4');\n",
              "          const dataTable =\n",
              "            await google.colab.kernel.invokeFunction('convertToInteractive',\n",
              "                                                     [key], {});\n",
              "          if (!dataTable) return;\n",
              "\n",
              "          const docLinkHtml = 'Like what you see? Visit the ' +\n",
              "            '<a target=\"_blank\" href=https://colab.research.google.com/notebooks/data_table.ipynb>data table notebook</a>'\n",
              "            + ' to learn more about interactive tables.';\n",
              "          element.innerHTML = '';\n",
              "          dataTable['output_type'] = 'display_data';\n",
              "          await google.colab.output.renderOutput(dataTable, element);\n",
              "          const docLink = document.createElement('div');\n",
              "          docLink.innerHTML = docLinkHtml;\n",
              "          element.appendChild(docLink);\n",
              "        }\n",
              "      </script>\n",
              "    </div>\n",
              "  </div>\n",
              "  "
            ]
          },
          "metadata": {},
          "execution_count": 7
        }
      ]
    },
    {
      "cell_type": "markdown",
      "source": [
        "#Loading dataset"
      ],
      "metadata": {
        "id": "GOslvOfed664"
      }
    },
    {
      "cell_type": "code",
      "source": [
        "data=pd.read_csv('/content/Dakshina Dataset/hi/lexicons/hi.translit.sampled.train.tsv',delimiter='\\t',header=None)\n",
        "data = data.iloc[:, :-1]\n",
        "data.to_csv('/content/Dakshina Dataset/hi/lexicons/hi.translit.sampled.train.tsv',sep='\\t',index=False,header=False)\n",
        "\n",
        "data=pd.read_csv('/content/Dakshina Dataset/hi/lexicons/hi.translit.sampled.test.tsv',delimiter='\\t',header=None)\n",
        "data = data.iloc[:, :-1]\n",
        "data.to_csv('/content/Dakshina Dataset/hi/lexicons/hi.translit.sampled.test.tsv',sep='\\t',index=False,header=False)\n",
        "\n",
        "data=pd.read_csv('/content/Dakshina Dataset/hi/lexicons/hi.translit.sampled.dev.tsv',delimiter='\\t',header=None)\n",
        "data = data.iloc[:, :-1]\n",
        "data.to_csv('/content/Dakshina Dataset/hi/lexicons/hi.translit.sampled.dev.tsv',sep='\\t',index=False,header=False)"
      ],
      "metadata": {
        "id": "lQfgrJio8tAd"
      },
      "execution_count": null,
      "outputs": []
    },
    {
      "cell_type": "code",
      "source": [
        "def tokenize_word(word):\n",
        "  return ['<SOS>'] + list(word) + ['<EOS>']"
      ],
      "metadata": {
        "id": "vQ8GahKN6ZAb"
      },
      "execution_count": null,
      "outputs": []
    },
    {
      "cell_type": "code",
      "source": [
        "hindi = Field(tokenize = tokenize_word)\n",
        "english = Field(tokenize = tokenize_word,lower=True)"
      ],
      "metadata": {
        "id": "e9S8MS8LJ4ab"
      },
      "execution_count": null,
      "outputs": []
    },
    {
      "cell_type": "code",
      "source": [
        "fields = [('output',hindi),('input',english)]"
      ],
      "metadata": {
        "id": "gICQM4_qNUeV"
      },
      "execution_count": null,
      "outputs": []
    },
    {
      "cell_type": "code",
      "source": [
        "train_data =TabularDataset(\n",
        "    path='/content/Dakshina Dataset/hi/lexicons/hi.translit.sampled.train.tsv',\n",
        "    format='tsv',\n",
        "    fields=fields,\n",
        "    skip_header=False\n",
        ")\n",
        "test_data =TabularDataset(\n",
        "    path='/content/Dakshina Dataset/hi/lexicons/hi.translit.sampled.test.tsv',\n",
        "    format='tsv',\n",
        "    fields=fields,\n",
        "    skip_header=False\n",
        ")\n",
        "val_data =TabularDataset(\n",
        "    path='/content/Dakshina Dataset/hi/lexicons/hi.translit.sampled.dev.tsv',\n",
        "    format='tsv',\n",
        "    fields=fields,\n",
        "    skip_header=False\n",
        ")"
      ],
      "metadata": {
        "id": "tuaSZsM2Npks"
      },
      "execution_count": null,
      "outputs": []
    },
    {
      "cell_type": "code",
      "source": [
        "# Build the vocabulary\n",
        "english.build_vocab(train_data)\n",
        "hindi.build_vocab(train_data)"
      ],
      "metadata": {
        "id": "pBc-cF4ISk24"
      },
      "execution_count": null,
      "outputs": []
    },
    {
      "cell_type": "code",
      "source": [
        "def evaluate_model(model):\n",
        "  model.eval()\n",
        "  preds=[]\n",
        "  acts=[]\n",
        "\n",
        "  pad_idx = hindi.vocab.stoi['<pad>']\n",
        "  criterion = nn.CrossEntropyLoss(ignore_index=pad_idx)\n",
        "\n",
        "  with torch.no_grad():\n",
        "    test_loss=0.0\n",
        "    for batch_idx,batch in enumerate(test_iterator):\n",
        "\n",
        "      input_data = batch.input.to(device)\n",
        "      target_data = batch.output.to(device)\n",
        "      output=model(input_data,target_data)\n",
        "      output = output[1:].reshape(-1,output.shape[2])\n",
        "      target_data=target_data[1:].reshape(-1)\n",
        "\n",
        "      output_max = output.argmax(dim=-1)\n",
        "      test_loss+=criterion(output,target_data)\n",
        "\n",
        "\n",
        "      preds.extend(output_max.cpu().numpy().flatten())\n",
        "      acts.extend(target_data.cpu().numpy().flatten())\n",
        "\n",
        "    corr_matrix = np.corrcoef(preds, acts)\n",
        "    test_loss = float(float(test_loss)/float(len(test_iterator)))\n",
        "    sns.heatmap(corr_matrix, annot=True, cmap='coolwarm')\n",
        "    plt.show()\n",
        "\n",
        "    return test_loss\n"
      ],
      "metadata": {
        "id": "mdQbh7Qsx4AV"
      },
      "execution_count": null,
      "outputs": []
    },
    {
      "cell_type": "code",
      "source": [
        "def write_train_log(Loss,n_epochs,model_path,string_split):\n",
        "  epochs=list(range(1,n_epochs))\n",
        "  with open(model_path,'a') as f:\n",
        "    f.write(\"\\n\")\n",
        "    f.write(\"\\t\\t\\t\\t\\t\\t\\t\")\n",
        "    f.write(string_split)\n",
        "    f.write(\"\\n\")\n",
        "    df=pd.concat([pd.Series(epochs,name='Epochs'),pd.Series(Loss,name='Loss')],axis=1)\n",
        "    df_to_string=df.to_string(header=True,index=False)\n",
        "    f.write(df_to_string)\n",
        "    f.close()"
      ],
      "metadata": {
        "id": "9RQTQcApSSag"
      },
      "execution_count": null,
      "outputs": []
    },
    {
      "cell_type": "markdown",
      "source": [
        "#Question no:01"
      ],
      "metadata": {
        "id": "nexjliTkkHlW"
      }
    },
    {
      "cell_type": "markdown",
      "source": [
        "#LSTM"
      ],
      "metadata": {
        "id": "R9cJwUf9j0B2"
      }
    },
    {
      "cell_type": "code",
      "source": [
        "class Encoder(nn.Module):\n",
        "\n",
        "  def __init__(self,input_size,embedding_size,n_hidden_layers,hidden_layer_size,drop_out=0.0):\n",
        "    super(Encoder,self).__init__()\n",
        "    self.dropout = nn.Dropout(p=drop_out)\n",
        "    self.embedding = nn.Embedding(input_size,embedding_size)\n",
        "    self.lstm = nn.LSTM(embedding_size,hidden_layer_size,n_hidden_layers,dropout=drop_out)\n",
        "\n",
        "  def forward(self,x):\n",
        "    embedding = self.dropout(self.embedding(x))\n",
        "    outputs,(hidden,cell) = self.lstm(embedding)\n",
        "\n",
        "    return hidden,cell"
      ],
      "metadata": {
        "id": "_bTsA4-iXA3f"
      },
      "execution_count": null,
      "outputs": []
    },
    {
      "cell_type": "code",
      "source": [
        "class Decoder(nn.Module):\n",
        "\n",
        "  def __init__(self,input_size,embedding_size,hidden_size,output_size,n_hidden_layers,drop_out=0.0):\n",
        "    super(Decoder,self).__init__()\n",
        "\n",
        "    self.dropout=nn.Dropout(p=drop_out)\n",
        "    self.embedding = nn.Embedding(input_size, embedding_size)\n",
        "    self.lstm = nn.LSTM(embedding_size, hidden_size, n_hidden_layers, dropout=drop_out)\n",
        "    self.fc = nn.Linear(hidden_size, output_size)\n",
        "\n",
        "  def forward(self,x,hidden,cell):\n",
        "    x=x.unsqueeze(0)\n",
        "    embedding = self.dropout(self.embedding(x))\n",
        "    outputs, (hidden, cell) = self.lstm(embedding, (hidden, cell))\n",
        "    out=self.fc(outputs)\n",
        "    out=out.squeeze(0)\n",
        "\n",
        "    return out,hidden,cell\n"
      ],
      "metadata": {
        "id": "TF_kBuKnFKVZ"
      },
      "execution_count": null,
      "outputs": []
    },
    {
      "cell_type": "code",
      "source": [
        "class seq2seq(nn.Module):\n",
        "  def __init__(self,encoder,decoder):\n",
        "    super(seq2seq, self).__init__()\n",
        "    self.encoder = encoder\n",
        "    self.decoder = decoder\n",
        "\n",
        "  def forward(self,src,trg,teacher_force_ratio=0.5):\n",
        "    batch_size = src.shape[1]\n",
        "    target_len = trg.shape[0]\n",
        "    target_word_len=len(hindi.vocab)\n",
        "\n",
        "    hidden, cell = self.encoder(src)\n",
        "    outputs = torch.zeros(target_len, batch_size, target_word_len).to(device)\n",
        "\n",
        "    x = trg[0]\n",
        "\n",
        "    for t in range(1, target_len):\n",
        "      output, hidden, cell = self.decoder(x, hidden, cell)\n",
        "      outputs[t] = output\n",
        "      predicted_trg = output.argmax(1)\n",
        "      x = trg[t] if random.random() < teacher_force_ratio else predicted_trg\n",
        "\n",
        "    return outputs\n"
      ],
      "metadata": {
        "id": "_290_ydUl_Bu"
      },
      "execution_count": null,
      "outputs": []
    },
    {
      "cell_type": "markdown",
      "source": [
        "#####Training model"
      ],
      "metadata": {
        "id": "GBW9MExMpmik"
      }
    },
    {
      "cell_type": "code",
      "source": [
        "device = 'cuda:0' if torch.cuda.is_available() else 'cpu'\n",
        "device"
      ],
      "metadata": {
        "id": "gmUqhe21VPFL",
        "colab": {
          "base_uri": "https://localhost:8080/",
          "height": 35
        },
        "outputId": "d26bff59-571d-4432-ab4b-3a05cd0bbdba"
      },
      "execution_count": null,
      "outputs": [
        {
          "output_type": "execute_result",
          "data": {
            "text/plain": [
              "'cpu'"
            ],
            "application/vnd.google.colaboratory.intrinsic+json": {
              "type": "string"
            }
          },
          "metadata": {},
          "execution_count": 17
        }
      ]
    },
    {
      "cell_type": "code",
      "source": [
        "train_iterator, val_iterator, test_iterator = BucketIterator.splits(\n",
        "    datasets=(train_data, val_data, test_data),\n",
        "    batch_size=32,\n",
        "    device=device,\n",
        "    sort_key=lambda x: len(x.input),\n",
        "    sort_within_batch=True,\n",
        "    repeat=False)\n"
      ],
      "metadata": {
        "id": "j0NnjS-fUQhE"
      },
      "execution_count": null,
      "outputs": []
    },
    {
      "cell_type": "code",
      "source": [
        "n_epochs = 10\n",
        "learning_rate = 0.001\n",
        "\n",
        "input_size_encoder = len(english.vocab)\n",
        "input_size_decoder = len(hindi.vocab)\n",
        "output_size        = len(hindi.vocab)\n",
        "embedding_size     = 16\n",
        "hidden_size        = 16\n",
        "n_hidden_layers    = 1\n",
        "\n",
        "\n",
        "encoder_net = Encoder(input_size_encoder,embedding_size,n_hidden_layers,\n",
        "                      hidden_size).to(device)\n",
        "\n",
        "decoder_net = Decoder(input_size_decoder,embedding_size,hidden_size,\n",
        "                      output_size,n_hidden_layers).to(device)\n",
        "\n",
        "seq_model = seq2seq(encoder_net,decoder_net).to(device)\n",
        "\n",
        "pad_idx = hindi.vocab.stoi['<pad>']\n",
        "criterion = nn.CrossEntropyLoss(ignore_index=pad_idx)\n",
        "optimizer = optim.Adam(seq_model.parameters(), lr=learning_rate)\n",
        "\n"
      ],
      "metadata": {
        "id": "KN4Cjbwgppv_"
      },
      "execution_count": null,
      "outputs": []
    },
    {
      "cell_type": "code",
      "source": [
        "print(input_size_encoder)\n",
        "print(output_size)"
      ],
      "metadata": {
        "colab": {
          "base_uri": "https://localhost:8080/"
        },
        "id": "uKvL8UnvWBnb",
        "outputId": "8fccf5a6-3266-46cc-e542-ef9e05143df8"
      },
      "execution_count": null,
      "outputs": [
        {
          "output_type": "stream",
          "name": "stdout",
          "text": [
            "30\n",
            "67\n"
          ]
        }
      ]
    },
    {
      "cell_type": "code",
      "source": [
        "Loss=[]\n",
        "for epoch in range(n_epochs):\n",
        "  seq_model.train()\n",
        "  for batch_idx, batch in enumerate(train_iterator):\n",
        "          train_loss = 0.0\n",
        "          input_data = batch.input.to(device)\n",
        "          target_data = batch.output.to(device)\n",
        "          output = seq_model(input_data,target_data)\n",
        "          output = output[1:].reshape(-1,output.shape[2])\n",
        "          target_data=target_data[1:].reshape(-1)\n",
        "\n",
        "          optimizer.zero_grad()\n",
        "          loss=criterion(output,target_data)\n",
        "          loss.backward()\n",
        "\n",
        "          #avoid exploding gradients\n",
        "          nn.utils.clip_grad_norm_(seq_model.parameters(),max_norm=1)\n",
        "\n",
        "          optimizer.step()\n",
        "          train_loss+=loss.item()\n",
        "\n",
        "  Loss.append(train_loss)\n",
        "\n",
        "  print(\"Epoch:{}/10   Loss:{}\".format(epoch+1,train_loss))"
      ],
      "metadata": {
        "id": "wwacGC8KMsJB",
        "colab": {
          "base_uri": "https://localhost:8080/"
        },
        "outputId": "00bd7fb0-4c75-4a75-8455-c41be66dcca5"
      },
      "execution_count": null,
      "outputs": [
        {
          "output_type": "stream",
          "name": "stdout",
          "text": [
            "Epoch:1/10   Loss:2.684725522994995\n",
            "Epoch:2/10   Loss:2.6256399154663086\n",
            "Epoch:3/10   Loss:2.3424646854400635\n",
            "Epoch:4/10   Loss:2.239795207977295\n",
            "Epoch:5/10   Loss:2.141633987426758\n",
            "Epoch:6/10   Loss:1.8618812561035156\n",
            "Epoch:7/10   Loss:2.6121509075164795\n",
            "Epoch:8/10   Loss:1.9250041246414185\n",
            "Epoch:9/10   Loss:2.033702850341797\n",
            "Epoch:10/10   Loss:2.1093926429748535\n"
          ]
        }
      ]
    },
    {
      "cell_type": "code",
      "source": [
        "loss3=Loss\n",
        "test_loss3=evaluate_model(seq_model)\n",
        "test_loss3"
      ],
      "metadata": {
        "colab": {
          "base_uri": "https://localhost:8080/",
          "height": 487
        },
        "id": "weiUTfp2Liw8",
        "outputId": "0558106c-0a2f-4a57-b128-694d1c2fa3f8"
      },
      "execution_count": null,
      "outputs": [
        {
          "output_type": "stream",
          "name": "stdout",
          "text": [
            "<class 'list'>\n",
            "<class 'list'>\n"
          ]
        },
        {
          "output_type": "display_data",
          "data": {
            "text/plain": [
              "<Figure size 640x480 with 2 Axes>"
            ],
            "image/png": "[encoded data removed]"
          },
          "metadata": {}
        },
        {
          "output_type": "execute_result",
          "data": {
            "text/plain": [
              "1.9058158279310726"
            ]
          },
          "metadata": {},
          "execution_count": 110
        }
      ]
    },
    {
      "cell_type": "code",
      "source": [
        "text='model without attention: no of hidden layer:1 hidden layer size = 16 embedding size = 16'\n",
        "model_path='/content/drive/MyDrive/dl_assign2_q1.txt'\n",
        "write_train_log(loss3,n_epochs,model_path,text)"
      ],
      "metadata": {
        "id": "g3BgX9KUL3_b"
      },
      "execution_count": null,
      "outputs": []
    },
    {
      "cell_type": "code",
      "source": [
        "n_epochs = 10\n",
        "learning_rate = 0.001\n",
        "\n",
        "input_size_encoder = len(english.vocab)\n",
        "input_size_decoder = len(hindi.vocab)\n",
        "output_size        = len(hindi.vocab)\n",
        "embedding_size     = 64\n",
        "hidden_size        = 64\n",
        "n_hidden_layers    = 3\n",
        "\n",
        "\n",
        "encoder_net = Encoder(input_size_encoder,embedding_size,n_hidden_layers,\n",
        "                      hidden_size).to(device)\n",
        "\n",
        "decoder_net = Decoder(input_size_decoder,embedding_size,hidden_size,\n",
        "                      output_size,n_hidden_layers).to(device)\n",
        "\n",
        "seq_model = seq2seq(encoder_net,decoder_net).to(device)\n",
        "\n",
        "pad_idx = hindi.vocab.stoi['<pad>']\n",
        "criterion = nn.CrossEntropyLoss(ignore_index=pad_idx)\n",
        "optimizer = optim.Adam(seq_model.parameters(), lr=learning_rate)\n",
        "\n"
      ],
      "metadata": {
        "id": "V5vq9xNWFzay"
      },
      "execution_count": null,
      "outputs": []
    },
    {
      "cell_type": "code",
      "source": [
        "Loss=[]\n",
        "for epoch in range(n_epochs):\n",
        "  seq_model.train()\n",
        "  for batch_idx, batch in enumerate(train_iterator):\n",
        "          train_loss = 0.0\n",
        "          input_data = batch.input.to(device)\n",
        "          target_data = batch.output.to(device)\n",
        "          output = seq_model(input_data,target_data)\n",
        "          output = output[1:].reshape(-1,output.shape[2])\n",
        "          target_data=target_data[1:].reshape(-1)\n",
        "\n",
        "          optimizer.zero_grad()\n",
        "          loss=criterion(output,target_data)\n",
        "          loss.backward()\n",
        "\n",
        "          #avoid exploding gradients\n",
        "          nn.utils.clip_grad_norm_(seq_model.parameters(),max_norm=1)\n",
        "\n",
        "          optimizer.step()\n",
        "          train_loss+=loss.item()\n",
        "\n",
        "  Loss.append(train_loss)\n",
        "\n",
        "\n",
        "  print(\"Epoch:{}/10   Loss:{}\".format(epoch+1,train_loss))"
      ],
      "metadata": {
        "colab": {
          "base_uri": "https://localhost:8080/"
        },
        "id": "gSJjBxbCF6Tu",
        "outputId": "d0ce2750-4a98-4c85-db64-13a98685e33d"
      },
      "execution_count": null,
      "outputs": [
        {
          "output_type": "stream",
          "name": "stdout",
          "text": [
            "Epoch:1/10   Loss:1.183101773262024\n",
            "Epoch:2/10   Loss:1.2935755252838135\n",
            "Epoch:3/10   Loss:1.029468297958374\n",
            "Epoch:4/10   Loss:0.962555468082428\n",
            "Epoch:5/10   Loss:0.9422837495803833\n",
            "Epoch:6/10   Loss:0.9571056962013245\n",
            "Epoch:7/10   Loss:1.0407313108444214\n",
            "Epoch:8/10   Loss:0.6499488353729248\n",
            "Epoch:9/10   Loss:0.36466801166534424\n",
            "Epoch:10/10   Loss:0.6822417974472046\n"
          ]
        }
      ]
    },
    {
      "cell_type": "code",
      "source": [
        "loss2=Loss\n",
        "test_loss2=evaluate_model(seq_model)\n",
        "test_loss2"
      ],
      "metadata": {
        "colab": {
          "base_uri": "https://localhost:8080/",
          "height": 487
        },
        "id": "l7bd1ZncJreV",
        "outputId": "a5495ac9-c0d3-4738-e0b8-97b274ecd0a1"
      },
      "execution_count": null,
      "outputs": [
        {
          "output_type": "stream",
          "name": "stdout",
          "text": [
            "<class 'list'>\n",
            "<class 'list'>\n"
          ]
        },
        {
          "output_type": "display_data",
          "data": {
            "text/plain": [
              "<Figure size 640x480 with 2 Axes>"
            ],
            "image/png": "[encoded data removed]"
          },
          "metadata": {}
        },
        {
          "output_type": "execute_result",
          "data": {
            "text/plain": [
              "0.7474101181571365"
            ]
          },
          "metadata": {},
          "execution_count": 107
        }
      ]
    },
    {
      "cell_type": "code",
      "source": [
        "text='model without attention: no of hidden layer:3 hidden layer size = 64 embedding size = 64'\n",
        "model_path='/content/drive/MyDrive/dl_assign2_q1.txt'\n",
        "write_train_log(loss2,n_epochs,model_path,text)"
      ],
      "metadata": {
        "id": "3nks6SRXMVho"
      },
      "execution_count": null,
      "outputs": []
    },
    {
      "cell_type": "code",
      "source": [
        "epochs=[i for i in range(1,n_epochs+1)]\n",
        "fig, ax = plt.subplots()\n",
        "ax.plot(epochs, loss3, label='loss1')\n",
        "ax.plot(epochs, loss2, label='loss2')\n",
        "ax.set_xlabel('epochs')\n",
        "ax.set_ylabel('loss')\n",
        "ax.legend()\n",
        "plt.show()"
      ],
      "metadata": {
        "colab": {
          "base_uri": "https://localhost:8080/",
          "height": 449
        },
        "id": "A55-z9KdMpaB",
        "outputId": "49d08c1a-c01f-41a6-9f02-ce262a0a9282"
      },
      "execution_count": null,
      "outputs": [
        {
          "output_type": "display_data",
          "data": {
            "text/plain": [
              "<Figure size 640x480 with 1 Axes>"
            ],
            "image/png": "[encoded data removed]"
          },
          "metadata": {}
        }
      ]
    },
    {
      "cell_type": "markdown",
      "source": [
        "#LSTM WITH ATTENTION"
      ],
      "metadata": {
        "id": "uGs5GX19U_QK"
      }
    },
    {
      "cell_type": "code",
      "source": [
        "class Encoder_attention(nn.Module):\n",
        "\n",
        "  def __init__(self,input_size,embedding_size,n_hidden_layers,hidden_layer_size,drop_out=0.0):\n",
        "    super(Encoder_attention,self).__init__()\n",
        "    self.dropout = nn.Dropout(p=drop_out)\n",
        "    self.embedding = nn.Embedding(input_size,embedding_size)\n",
        "    self.lstm = nn.LSTM(embedding_size,hidden_layer_size,n_hidden_layers,bidirectional=True,dropout=drop_out)\n",
        "    self.fc1 = nn.Linear(hidden_layer_size*2,hidden_layer_size)\n",
        "    self.fc2 = nn.Linear(hidden_layer_size*2,hidden_layer_size)\n",
        "\n",
        "  def forward(self,x):\n",
        "    embedding = self.dropout(self.embedding(x))\n",
        "    encoder_states,(hidden,cell) = self.lstm(embedding)\n",
        "    hidden=self.fc1(torch.cat((hidden[0:1],hidden[1:2]),dim=2))\n",
        "    cell=self.fc1(torch.cat((cell[0:1],cell[1:2]),dim=2))\n",
        "    return encoder_states,hidden,cell"
      ],
      "metadata": {
        "id": "FX-6hTnwVDIk"
      },
      "execution_count": null,
      "outputs": []
    },
    {
      "cell_type": "code",
      "source": [
        "class Decoder_attention(nn.Module):\n",
        "\n",
        "  def __init__(self,input_size,embedding_size,hidden_size,output_size,n_hidden_layers,drop_out=0.0):\n",
        "    super(Decoder_attention,self).__init__()\n",
        "\n",
        "    self.dropout=nn.Dropout(p=drop_out)\n",
        "    self.embedding = nn.Embedding(input_size, embedding_size)\n",
        "    self.lstm = nn.LSTM(hidden_size*2+embedding_size, hidden_size, n_hidden_layers, dropout=drop_out)\n",
        "    self.scale = nn.Linear(hidden_size*3,1)\n",
        "    self.softmax = nn.Softmax(dim=0)\n",
        "    self.relu = nn.ReLU()\n",
        "    self.fc = nn.Linear(hidden_size, output_size)\n",
        "\n",
        "  def forward(self,x,encoder_states,hidden,cell):\n",
        "    x=x.unsqueeze(0)\n",
        "    embedding = self.dropout(self.embedding(x))\n",
        "\n",
        "    seq_len = encoder_states.shape[0]\n",
        "    reshape_seq=hidden.repeat(seq_len,1,1)\n",
        "    scale=self.relu(self.scale(torch.cat((reshape_seq,encoder_states),dim=2)))\n",
        "    attention=self.softmax(scale)\n",
        "    attention=attention.permute(1,2,0)\n",
        "    encoder_states=encoder_states.permute(1,0,2)\n",
        "    context_vector=torch.bmm(attention,encoder_states).permute(1,0,2)\n",
        "    lstm_input=torch.cat((context_vector,embedding),dim=2)\n",
        "\n",
        "    outputs, (hidden, cell) = self.lstm(lstm_input, (hidden, cell))\n",
        "    out=self.fc(outputs)\n",
        "    out=out.squeeze(0)\n",
        "\n",
        "    return out,hidden,cell\n"
      ],
      "metadata": {
        "id": "1grKPGcbbSPW"
      },
      "execution_count": null,
      "outputs": []
    },
    {
      "cell_type": "code",
      "source": [
        "class seq2seq_attention(nn.Module):\n",
        "  def __init__(self,encoder,decoder):\n",
        "    super(seq2seq_attention, self).__init__()\n",
        "    self.encoder = encoder\n",
        "    self.decoder = decoder\n",
        "\n",
        "  def forward(self,src,trg,teacher_force_ratio=0.5):\n",
        "    batch_size = src.shape[1]\n",
        "    target_len = trg.shape[0]\n",
        "    target_word_len=len(hindi.vocab)\n",
        "\n",
        "    encoder_states,hidden, cell = self.encoder(src)\n",
        "    outputs = torch.zeros(target_len, batch_size, target_word_len).to(device)\n",
        "\n",
        "    x = trg[0]\n",
        "\n",
        "    for t in range(1, target_len):\n",
        "      output, hidden, cell = self.decoder(x,encoder_states, hidden, cell)\n",
        "      outputs[t] = output\n",
        "      predicted_trg = output.argmax(1)\n",
        "      x = trg[t] if random.random() < teacher_force_ratio else predicted_trg\n",
        "\n",
        "    return outputs\n"
      ],
      "metadata": {
        "id": "XxN7m-1SfmKe"
      },
      "execution_count": null,
      "outputs": []
    },
    {
      "cell_type": "markdown",
      "source": [
        "#####Train"
      ],
      "metadata": {
        "id": "N6QM6sFwghoO"
      }
    },
    {
      "cell_type": "code",
      "source": [
        "n_epochs = 10\n",
        "learning_rate = 0.001\n",
        "\n",
        "input_size_encoder = len(english.vocab)\n",
        "input_size_decoder = len(hindi.vocab)\n",
        "output_size        = len(hindi.vocab)\n",
        "embedding_size     = 16\n",
        "hidden_size        = 16\n",
        "n_hidden_layers    = 1\n",
        "\n",
        "\n",
        "encoder_net = Encoder_attention(input_size_encoder,embedding_size,n_hidden_layers,\n",
        "                      hidden_size).to(device)\n",
        "\n",
        "decoder_net = Decoder_attention(input_size_decoder,embedding_size,hidden_size,\n",
        "                      output_size,n_hidden_layers).to(device)\n",
        "\n",
        "seq_model_attention = seq2seq_attention(encoder_net,decoder_net).to(device)\n",
        "\n",
        "pad_idx = hindi.vocab.stoi['<pad>']\n",
        "criterion = nn.CrossEntropyLoss(ignore_index=pad_idx)\n",
        "optimizer = optim.Adam(seq_model.parameters(), lr=learning_rate)\n",
        "\n"
      ],
      "metadata": {
        "id": "pCF0CAa6ggbd"
      },
      "execution_count": null,
      "outputs": []
    },
    {
      "cell_type": "code",
      "source": [
        "Loss=[]\n",
        "for epoch in range(n_epochs):\n",
        "  seq_model.train()\n",
        "\n",
        "  for batch_idx, batch in enumerate(train_iterator):\n",
        "          train_loss = 0.0\n",
        "          input_data = batch.input.to(device)\n",
        "          target_data = batch.output.to(device)\n",
        "          output = seq_model(input_data,target_data)\n",
        "          output1 = output[1:].reshape(-1,output.shape[2])\n",
        "          target_data1=target_data[1:].reshape(-1)\n",
        "\n",
        "          optimizer.zero_grad()\n",
        "          loss=criterion(output1,target_data1)\n",
        "          loss.backward()\n",
        "\n",
        "          #avoid exploding gradients\n",
        "          nn.utils.clip_grad_norm_(seq_model.parameters(),max_norm=1)\n",
        "\n",
        "          optimizer.step()\n",
        "          train_loss+=loss.item()\n",
        "\n",
        "  Loss.append(train_loss)\n",
        "\n",
        "  print(\"Epoch:{}/10   Loss:{} \".format(epoch+1,train_loss))"
      ],
      "metadata": {
        "colab": {
          "base_uri": "https://localhost:8080/"
        },
        "id": "omcy2_Y6gsp6",
        "outputId": "22bb53f9-e5fa-4595-a905-476e2f887663"
      },
      "execution_count": null,
      "outputs": [
        {
          "output_type": "stream",
          "name": "stdout",
          "text": [
            "Epoch:1/10   Loss:1.560520887374878 \n",
            "Epoch:2/10   Loss:1.699110746383667 \n",
            "Epoch:3/10   Loss:1.8244853019714355 \n",
            "Epoch:4/10   Loss:1.9328744411468506 \n",
            "Epoch:5/10   Loss:1.4553248882293701 \n",
            "Epoch:6/10   Loss:1.5590728521347046 \n",
            "Epoch:7/10   Loss:1.8739473819732666 \n",
            "Epoch:8/10   Loss:1.4631359577178955 \n",
            "Epoch:9/10   Loss:2.262178421020508 \n",
            "Epoch:10/10   Loss:1.7918468713760376 \n"
          ]
        }
      ]
    },
    {
      "cell_type": "code",
      "source": [
        "loss1=Loss\n",
        "test_loss=evaluate_model(seq_model)"
      ],
      "metadata": {
        "colab": {
          "base_uri": "https://localhost:8080/",
          "height": 470
        },
        "id": "IkRxMtfrzROo",
        "outputId": "3f2a84d9-46a0-4df3-cec9-46769c991c73"
      },
      "execution_count": null,
      "outputs": [
        {
          "output_type": "stream",
          "name": "stdout",
          "text": [
            "<class 'list'>\n",
            "<class 'list'>\n"
          ]
        },
        {
          "output_type": "display_data",
          "data": {
            "text/plain": [
              "<Figure size 640x480 with 2 Axes>"
            ],
            "image/png": "[encoded data removed]"
          },
          "metadata": {}
        }
      ]
    },
    {
      "cell_type": "code",
      "source": [
        "test_loss"
      ],
      "metadata": {
        "colab": {
          "base_uri": "https://localhost:8080/"
        },
        "id": "5qAwdPpuJ2Z1",
        "outputId": "94f30067-7048-48a1-af6b-d32c4083f16d"
      },
      "execution_count": null,
      "outputs": [
        {
          "output_type": "execute_result",
          "data": {
            "text/plain": [
              "1.7081803125692598"
            ]
          },
          "metadata": {},
          "execution_count": 132
        }
      ]
    },
    {
      "cell_type": "code",
      "source": [
        "text='model with attention: no of hidden layer:1 hidden layer size = 16 embedding size = 16'\n",
        "model_path='/content/drive/MyDrive/dl_assign2_q1.txt'\n",
        "write_train_log(loss1,10,model_path,text)"
      ],
      "metadata": {
        "id": "F_-I60QsIes8"
      },
      "execution_count": null,
      "outputs": []
    },
    {
      "cell_type": "code",
      "source": [
        "epochs=[i for i in range(1,n_epochs+1)]\n",
        "fig, ax = plt.subplots()\n",
        "ax.plot(epochs, loss3, label='loss1')\n",
        "ax.plot(epochs, loss1, label='loss2')\n",
        "ax.set_xlabel('epochs')\n",
        "ax.set_ylabel('loss')\n",
        "ax.legend()\n",
        "plt.show()"
      ],
      "metadata": {
        "colab": {
          "base_uri": "https://localhost:8080/",
          "height": 449
        },
        "id": "R3HjGQBmPnuD",
        "outputId": "c27145d2-dadc-4be9-fd69-87beb5581829"
      },
      "execution_count": null,
      "outputs": [
        {
          "output_type": "display_data",
          "data": {
            "text/plain": [
              "<Figure size 640x480 with 1 Axes>"
            ],
            "image/png": "[encoded data removed]"
          },
          "metadata": {}
        }
      ]
    }
  ]
}